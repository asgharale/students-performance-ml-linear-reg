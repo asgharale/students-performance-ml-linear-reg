{
 "cells": [
  {
   "cell_type": "code",
   "execution_count": 15,
   "id": "1e78d6c0-2f0e-4ccf-8fd1-eea09bebe705",
   "metadata": {},
   "outputs": [],
   "source": [
    "import pandas as pd\n",
    "from sklearn.model_selection import train_test_split\n",
    "from sklearn.linear_model import LinearRegression\n",
    "import numpy as np\n",
    "import pickle\n",
    "from matplotlib import style\n",
    "import matplotlib.pyplot as pyplot\n",
    "\n",
    "df = pd.read_csv('student-mat.csv', sep=';')\n",
    "\n",
    "label = 'G3'\n",
    "\n",
    "x = np.array(df[['age', 'Medu', 'Fedu', 'traveltime', 'studytime', 'failures', 'famrel', 'freetime', 'goout', 'Dalc', 'Walc', 'health', 'absences', 'G1', 'G2']])\n",
    "y = np.array(df[label])\n"
   ]
  },
  {
   "cell_type": "code",
   "execution_count": 13,
   "id": "92c149bf-645e-4262-8c04-0ae88d3df4e8",
   "metadata": {},
   "outputs": [],
   "source": [
    "best = 0\n",
    "for _ in range(1000):\n",
    "    x_train, x_test, y_train, y_test = train_test_split(x, y, test_size=0.1)\n",
    "\n",
    "    linear = LinearRegression()\n",
    "    linear.fit(x_train, y_train)\n",
    "    \n",
    "    acc = linear.score(x_test, y_test)\n",
    "    if acc > best:\n",
    "        best = acc\n",
    "        with open('student-88%-model.pkl', 'wb') as f:\n",
    "            pickle.dump(linear, f)\n",
    "\n",
    "\n",
    "with open('student-88%-model.pkl', 'rb') as f:\n",
    "    model = pickle.load(f)"
   ]
  },
  {
   "cell_type": "code",
   "execution_count": 14,
   "id": "9e02e1e6-d265-49f9-b316-271ab2240bcd",
   "metadata": {},
   "outputs": [
    {
     "name": "stdout",
     "output_type": "stream",
     "text": [
      "ضریب:  [-0.19477468  0.09700585 -0.16071936  0.1163267  -0.14253035 -0.2207293\n",
      "  0.37073266  0.06947513 -0.00520646 -0.12011479  0.15705664  0.05737455\n",
      "  0.04535622  0.16301029  0.98184523]\n",
      "رهگیری:  -0.6246012233056071\n",
      "\n",
      "0.9605002717349377\n",
      "16.815316513127925 [15  4  3  1  2  0  4  5  2  1  1  5  0 17 16] 16\n",
      "13.489429031264649 [16  2  1  1  1  1  4  4  4  3  5  5  6 12 13] 14\n",
      "7.074659523379104 [19  1  1  3  1  1  4  4  4  3  3  5  4  8  8] 8\n",
      "3.376830930144447 [16  3  4  1  2  0  2  4  3  1  2  3 12  5  5] 5\n",
      "13.923073072591997 [17  4  4  2  3  0  4  3  3  1  2  4  4 14 14] 14\n",
      "14.470572267729915 [18  3  3  1  2  0  4  1  3  1  2  1  0 15 15] 15\n",
      "7.659199741110228 [17  1  2  2  2  0  4  4  4  4  5  5 12  7  8] 8\n",
      "9.246606738933261 [16  4  3  1  1  0  3  1  3  1  3  5  4  8 10] 10\n",
      "10.496972292699306 [17  3  4  1  3  0  4  3  4  2  5  5  0 11 11] 10\n",
      "12.221465851986206 [15  2  2  1  1  0  4  2  2  1  2  5  2 12 12] 11\n",
      "16.611493658626717 [15  4  4  2  1  0  4  3  2  1  1  5  0 16 16] 15\n",
      "10.688014963958555 [16  4  3  1  2  0  1  3  2  1  1  1 10 11 12] 13\n",
      "16.849777234563867 [16  4  3  1  2  0  4  3  5  1  5  2  2 16 16] 16\n",
      "6.2875288429559975 [16  3  1  1  4  0  4  3  3  1  2  5  4  7  7] 6\n",
      "10.169386096220482 [19  3  2  2  2  1  4  2  2  1  2  1 22 13 10] 11\n",
      "19.321462154429195 [17  4  4  2  1  1  4  2  4  2  3  2 24 18 18] 18\n",
      "13.118520638668025 [15  4  4  1  1  0  5  3  3  1  1  5  4 10 13] 14\n",
      "8.189077900777132 [16  3  3  1  3  1  4  1  2  1  1  2  0  7 10] 10\n",
      "13.607516052347679 [20  4  2  2  3  2  5  4  3  1  1  3  4 15 14] 15\n",
      "11.747467402996403 [17  1  1  1  3  0  4  3  3  1  1  3  6 13 12] 12\n",
      "11.02413041482286 [17  2  3  1  2  0  5  3  3  1  3  3  2 12 11] 12\n",
      "10.383000253130113 [17  2  2  4  1  0  4  4  5  5  5  4  8 11 10] 10\n",
      "14.605075180231626 [15  4  4  1  1  0  4  3  3  1  3  5  2 14 14] 14\n",
      "9.038701239331905 [15  3  4  1  2  0  5  3  2  1  1  1  0  7 10] 11\n",
      "15.883427566754094 [16  4  2  1  2  0  4  5  1  1  3  5  2 15 15] 16\n",
      "9.803510113963913 [17  4  4  1  1  0  5  2  1  1  2  3 12  8 10] 10\n",
      "12.453431238509186 [19  1  1  1  3  2  4  1  2  1  1  3 14 15 13] 13\n",
      "11.443161660629576 [18  1  1  2  4  0  5  2  2  1  1  3  1 12 12] 12\n",
      "5.810662537855506 [18  1  3  1  1  1  4  3  3  2  3  3  7  8  7] 8\n",
      "8.255828656304994 [15  2  4  1  3  0  4  3  2  1  1  5  2 10  9] 8\n",
      "9.874672435940374 [16  2  2  2  4  0  5  3  5  1  1  5  6 10 10] 11\n",
      "13.999865570520935 [17  4  4  1  2  0  2  3  4  1  1  1  0 16 15] 15\n",
      "18.419617882638388 [15  3  4  1  2  0  5  4  4  1  1  1  0 16 18] 18\n",
      "15.364274071785367 [16  2  3  1  2  0  2  3  1  1  1  3  2 16 16] 17\n",
      "9.009324764960287 [16  1  2  1  2  0  4  4  3  1  1  1  4  8 10] 9\n",
      "12.047975526270793 [17  4  2  2  3  0  4  3  3  1  1  3  0 15 12] 14\n",
      "14.181482410961033 [16  2  3  2  1  0  5  3  3  1  1  3  0 13 14] 14\n",
      "4.606486871661826 [18  4  2  2  1  1  5  4  3  4  3  3 14  6  5] 5\n",
      "12.638765649482549 [15  2  2  1  4  0  4  3  4  1  1  4  6 11 13] 14\n",
      "6.608106996396877 [17  2  2  1  2  1  3  3  1  1  2  4  0  9  8] 0\n"
     ]
    }
   ],
   "source": [
    "predictions = model.predict(x_test)\n",
    "# print(\"ضریب: \", model.coef_)\n",
    "# print(\"رهگیری: \", model.intercept_)\n",
    "\n",
    "# print()\n",
    "# print(best)\n",
    "# for i in range(len(predictions)):\n",
    "#     print(predictions[i], x_test[i], y_test[i])"
   ]
  },
  {
   "cell_type": "code",
   "execution_count": 20,
   "id": "e50bbebf-f250-4743-9c8f-375984499be9",
   "metadata": {},
   "outputs": [
    {
     "ename": "ValueError",
     "evalue": "x and y must be the same size",
     "output_type": "error",
     "traceback": [
      "\u001b[1;31m---------------------------------------------------------------------------\u001b[0m",
      "\u001b[1;31mValueError\u001b[0m                                Traceback (most recent call last)",
      "Cell \u001b[1;32mIn[20], line 3\u001b[0m\n\u001b[0;32m      1\u001b[0m \u001b[38;5;66;03m# plotting data\u001b[39;00m\n\u001b[0;32m      2\u001b[0m style\u001b[38;5;241m.\u001b[39muse(\u001b[38;5;124m\"\u001b[39m\u001b[38;5;124mggplot\u001b[39m\u001b[38;5;124m\"\u001b[39m)\n\u001b[1;32m----> 3\u001b[0m pyplot\u001b[38;5;241m.\u001b[39mscatter(x[\u001b[38;5;241m5\u001b[39m], y)\n\u001b[0;32m      4\u001b[0m pyplot\u001b[38;5;241m.\u001b[39mylabel(label)\n\u001b[0;32m      5\u001b[0m pyplot\u001b[38;5;241m.\u001b[39mshow()\n",
      "File \u001b[1;32m~\\anaconda3\\Lib\\site-packages\\matplotlib\\pyplot.py:3699\u001b[0m, in \u001b[0;36mscatter\u001b[1;34m(x, y, s, c, marker, cmap, norm, vmin, vmax, alpha, linewidths, edgecolors, plotnonfinite, data, **kwargs)\u001b[0m\n\u001b[0;32m   3680\u001b[0m \u001b[38;5;129m@_copy_docstring_and_deprecators\u001b[39m(Axes\u001b[38;5;241m.\u001b[39mscatter)\n\u001b[0;32m   3681\u001b[0m \u001b[38;5;28;01mdef\u001b[39;00m \u001b[38;5;21mscatter\u001b[39m(\n\u001b[0;32m   3682\u001b[0m     x: \u001b[38;5;28mfloat\u001b[39m \u001b[38;5;241m|\u001b[39m ArrayLike,\n\u001b[1;32m   (...)\u001b[0m\n\u001b[0;32m   3697\u001b[0m     \u001b[38;5;241m*\u001b[39m\u001b[38;5;241m*\u001b[39mkwargs,\n\u001b[0;32m   3698\u001b[0m ) \u001b[38;5;241m-\u001b[39m\u001b[38;5;241m>\u001b[39m PathCollection:\n\u001b[1;32m-> 3699\u001b[0m     __ret \u001b[38;5;241m=\u001b[39m gca()\u001b[38;5;241m.\u001b[39mscatter(\n\u001b[0;32m   3700\u001b[0m         x,\n\u001b[0;32m   3701\u001b[0m         y,\n\u001b[0;32m   3702\u001b[0m         s\u001b[38;5;241m=\u001b[39ms,\n\u001b[0;32m   3703\u001b[0m         c\u001b[38;5;241m=\u001b[39mc,\n\u001b[0;32m   3704\u001b[0m         marker\u001b[38;5;241m=\u001b[39mmarker,\n\u001b[0;32m   3705\u001b[0m         cmap\u001b[38;5;241m=\u001b[39mcmap,\n\u001b[0;32m   3706\u001b[0m         norm\u001b[38;5;241m=\u001b[39mnorm,\n\u001b[0;32m   3707\u001b[0m         vmin\u001b[38;5;241m=\u001b[39mvmin,\n\u001b[0;32m   3708\u001b[0m         vmax\u001b[38;5;241m=\u001b[39mvmax,\n\u001b[0;32m   3709\u001b[0m         alpha\u001b[38;5;241m=\u001b[39malpha,\n\u001b[0;32m   3710\u001b[0m         linewidths\u001b[38;5;241m=\u001b[39mlinewidths,\n\u001b[0;32m   3711\u001b[0m         edgecolors\u001b[38;5;241m=\u001b[39medgecolors,\n\u001b[0;32m   3712\u001b[0m         plotnonfinite\u001b[38;5;241m=\u001b[39mplotnonfinite,\n\u001b[0;32m   3713\u001b[0m         \u001b[38;5;241m*\u001b[39m\u001b[38;5;241m*\u001b[39m({\u001b[38;5;124m\"\u001b[39m\u001b[38;5;124mdata\u001b[39m\u001b[38;5;124m\"\u001b[39m: data} \u001b[38;5;28;01mif\u001b[39;00m data \u001b[38;5;129;01mis\u001b[39;00m \u001b[38;5;129;01mnot\u001b[39;00m \u001b[38;5;28;01mNone\u001b[39;00m \u001b[38;5;28;01melse\u001b[39;00m {}),\n\u001b[0;32m   3714\u001b[0m         \u001b[38;5;241m*\u001b[39m\u001b[38;5;241m*\u001b[39mkwargs,\n\u001b[0;32m   3715\u001b[0m     )\n\u001b[0;32m   3716\u001b[0m     sci(__ret)\n\u001b[0;32m   3717\u001b[0m     \u001b[38;5;28;01mreturn\u001b[39;00m __ret\n",
      "File \u001b[1;32m~\\anaconda3\\Lib\\site-packages\\matplotlib\\__init__.py:1465\u001b[0m, in \u001b[0;36m_preprocess_data.<locals>.inner\u001b[1;34m(ax, data, *args, **kwargs)\u001b[0m\n\u001b[0;32m   1462\u001b[0m \u001b[38;5;129m@functools\u001b[39m\u001b[38;5;241m.\u001b[39mwraps(func)\n\u001b[0;32m   1463\u001b[0m \u001b[38;5;28;01mdef\u001b[39;00m \u001b[38;5;21minner\u001b[39m(ax, \u001b[38;5;241m*\u001b[39margs, data\u001b[38;5;241m=\u001b[39m\u001b[38;5;28;01mNone\u001b[39;00m, \u001b[38;5;241m*\u001b[39m\u001b[38;5;241m*\u001b[39mkwargs):\n\u001b[0;32m   1464\u001b[0m     \u001b[38;5;28;01mif\u001b[39;00m data \u001b[38;5;129;01mis\u001b[39;00m \u001b[38;5;28;01mNone\u001b[39;00m:\n\u001b[1;32m-> 1465\u001b[0m         \u001b[38;5;28;01mreturn\u001b[39;00m func(ax, \u001b[38;5;241m*\u001b[39m\u001b[38;5;28mmap\u001b[39m(sanitize_sequence, args), \u001b[38;5;241m*\u001b[39m\u001b[38;5;241m*\u001b[39mkwargs)\n\u001b[0;32m   1467\u001b[0m     bound \u001b[38;5;241m=\u001b[39m new_sig\u001b[38;5;241m.\u001b[39mbind(ax, \u001b[38;5;241m*\u001b[39margs, \u001b[38;5;241m*\u001b[39m\u001b[38;5;241m*\u001b[39mkwargs)\n\u001b[0;32m   1468\u001b[0m     auto_label \u001b[38;5;241m=\u001b[39m (bound\u001b[38;5;241m.\u001b[39marguments\u001b[38;5;241m.\u001b[39mget(label_namer)\n\u001b[0;32m   1469\u001b[0m                   \u001b[38;5;129;01mor\u001b[39;00m bound\u001b[38;5;241m.\u001b[39mkwargs\u001b[38;5;241m.\u001b[39mget(label_namer))\n",
      "File \u001b[1;32m~\\anaconda3\\Lib\\site-packages\\matplotlib\\axes\\_axes.py:4655\u001b[0m, in \u001b[0;36mAxes.scatter\u001b[1;34m(self, x, y, s, c, marker, cmap, norm, vmin, vmax, alpha, linewidths, edgecolors, plotnonfinite, **kwargs)\u001b[0m\n\u001b[0;32m   4653\u001b[0m y \u001b[38;5;241m=\u001b[39m np\u001b[38;5;241m.\u001b[39mma\u001b[38;5;241m.\u001b[39mravel(y)\n\u001b[0;32m   4654\u001b[0m \u001b[38;5;28;01mif\u001b[39;00m x\u001b[38;5;241m.\u001b[39msize \u001b[38;5;241m!=\u001b[39m y\u001b[38;5;241m.\u001b[39msize:\n\u001b[1;32m-> 4655\u001b[0m     \u001b[38;5;28;01mraise\u001b[39;00m \u001b[38;5;167;01mValueError\u001b[39;00m(\u001b[38;5;124m\"\u001b[39m\u001b[38;5;124mx and y must be the same size\u001b[39m\u001b[38;5;124m\"\u001b[39m)\n\u001b[0;32m   4657\u001b[0m \u001b[38;5;28;01mif\u001b[39;00m s \u001b[38;5;129;01mis\u001b[39;00m \u001b[38;5;28;01mNone\u001b[39;00m:\n\u001b[0;32m   4658\u001b[0m     s \u001b[38;5;241m=\u001b[39m (\u001b[38;5;241m20\u001b[39m \u001b[38;5;28;01mif\u001b[39;00m mpl\u001b[38;5;241m.\u001b[39mrcParams[\u001b[38;5;124m'\u001b[39m\u001b[38;5;124m_internal.classic_mode\u001b[39m\u001b[38;5;124m'\u001b[39m] \u001b[38;5;28;01melse\u001b[39;00m\n\u001b[0;32m   4659\u001b[0m          mpl\u001b[38;5;241m.\u001b[39mrcParams[\u001b[38;5;124m'\u001b[39m\u001b[38;5;124mlines.markersize\u001b[39m\u001b[38;5;124m'\u001b[39m] \u001b[38;5;241m*\u001b[39m\u001b[38;5;241m*\u001b[39m \u001b[38;5;241m2.0\u001b[39m)\n",
      "\u001b[1;31mValueError\u001b[0m: x and y must be the same size"
     ]
    },
    {
     "data": {
      "image/png": "[encoded data removed]",
      "text/plain": [
       "<Figure size 640x480 with 1 Axes>"
      ]
     },
     "metadata": {},
     "output_type": "display_data"
    }
   ],
   "source": [
    "# plotting data\n",
    "style.use(\"ggplot\")\n",
    "pyplot.scatter(df['G2'], df[label])\n",
    "pyplot.ylabel(label)\n",
    "pyplot.show()"
   ]
  },
  {
   "cell_type": "code",
   "execution_count": null,
   "id": "5ee738c4-19f7-421e-9ba2-98c6edd21388",
   "metadata": {},
   "outputs": [],
   "source": []
  }
 ],
 "metadata": {
  "kernelspec": {
   "display_name": "Python 3 (ipykernel)",
   "language": "python",
   "name": "python3"
  },
  "language_info": {
   "codemirror_mode": {
    "name": "ipython",
    "version": 3
   },
   "file_extension": ".py",
   "mimetype": "text/x-python",
   "name": "python",
   "nbconvert_exporter": "python",
   "pygments_lexer": "ipython3",
   "version": "3.12.4"
  }
 },
 "nbformat": 4,
 "nbformat_minor": 5
}
